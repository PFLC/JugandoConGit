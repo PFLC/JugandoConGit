{
 "cells": [
  {
   "cell_type": "code",
   "execution_count": 8,
   "metadata": {},
   "outputs": [
    {
     "name": "stdout",
     "output_type": "stream",
     "text": [
      "Medidas: \n",
      "38.582677165354326 pul\n",
      "30.708661417322833 pul\n",
      "26.37795275590551 pul\n",
      "Altura: \n",
      "4.035433070866142 ft\n",
      "48.425196850393704 pul\n",
      "Peso: \n",
      "25.878 lb\n"
     ]
    }
   ],
   "source": [
    "med1=int(input('Medida1:  '))\n",
    "med2=int(input('Medida2:  '))\n",
    "med3=int(input('Medida3:  '))\n",
    "alt=int(input('Altura:  '))\n",
    "peso=int(input('Peso:  '))\n",
    "print(\"Medidas: \")\n",
    "print(med1/30.48*12,\"pul\")\n",
    "print(med2/30.48*12,\"pul\")\n",
    "print(med3/30.48*12,\"pul\")\n",
    "print(\"Altura: \")\n",
    "print(alt/30.48,\"ft\")\n",
    "print(alt/30.48*12,\"pul\")\n",
    "print(\"Peso: \")\n",
    "print(peso*.454,\"lb\")"
   ]
  },
  {
   "cell_type": "code",
   "execution_count": 10,
   "metadata": {},
   "outputs": [
    {
     "name": "stdout",
     "output_type": "stream",
     "text": [
      "Resultado 55.0\n"
     ]
    }
   ],
   "source": [
    "def sumar(n):\n",
    "    return (n*(n+1)/2)\n",
    "N=int(input(\"Introducir rango: \"))\n",
    "suma= sumar(N)\n",
    "print('Resultado',suma)"
   ]
  },
  {
   "cell_type": "code",
   "execution_count": 15,
   "metadata": {},
   "outputs": [
    {
     "name": "stdout",
     "output_type": "stream",
     "text": [
      "1 semana:  604800 seg\n",
      "3 semana:  1814400 seg\n",
      "1 mes:  2419200 seg\n",
      "1 mes y 3 dias:  2678400 seg\n"
     ]
    }
   ],
   "source": [
    "min=60\n",
    "hora=60*min\n",
    "dia=24*hora\n",
    "sem=7*dia\n",
    "mes=sem*4\n",
    "anos=mes*12\n",
    "print('1 semana: ',sem,'seg')\n",
    "print('3 semana: ',sem*3,'seg')\n",
    "print('1 mes: ',mes,'seg')\n",
    "print('1 mes y 3 dias: ',mes+(dia*3),'seg')"
   ]
  },
  {
   "cell_type": "code",
   "execution_count": 18,
   "metadata": {},
   "outputs": [
    {
     "name": "stdout",
     "output_type": "stream",
     "text": [
      "788640\n"
     ]
    }
   ],
   "source": [
    "min=60\n",
    "hora=60*min\n",
    "dia=24*hora\n",
    "sem=7*dia\n",
    "semana=int(input('Semanas:  '))\n",
    "dias=int(input('Dias:  '))\n",
    "horas=int(input('Horas:  '))\n",
    "minutos=int(input('Minutos:  '))\n",
    "print((minutos*min)+(horas*hora)+(dias*dia)+(semana*sem))"
   ]
  },
  {
   "cell_type": "code",
   "execution_count": 21,
   "metadata": {},
   "outputs": [
    {
     "name": "stdout",
     "output_type": "stream",
     "text": [
      "204400 Horas durmiendo\n"
     ]
    }
   ],
   "source": [
    "duerme=8\n",
    "ano=365*duerme\n",
    "vida=int(input('Anios vividos: '))\n",
    "print(vida*ano,'Horas durmiendo')"
   ]
  }
 ],
 "metadata": {
  "kernelspec": {
   "display_name": "Python 3",
   "language": "python",
   "name": "python3"
  },
  "language_info": {
   "codemirror_mode": {
    "name": "ipython",
    "version": 3
   },
   "file_extension": ".py",
   "mimetype": "text/x-python",
   "name": "python",
   "nbconvert_exporter": "python",
   "pygments_lexer": "ipython3",
   "version": "3.6.5"
  }
 },
 "nbformat": 4,
 "nbformat_minor": 2
}
